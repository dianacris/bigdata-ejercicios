{
  "nbformat": 4,
  "nbformat_minor": 0,
  "metadata": {
    "colab": {
      "name": "Ejemplopython-files.ipynb",
      "provenance": []
    },
    "kernelspec": {
      "name": "python3",
      "display_name": "Python 3"
    },
    "language_info": {
      "name": "python"
    }
  },
  "cells": [
    {
      "cell_type": "code",
      "execution_count": 8,
      "metadata": {
        "id": "yH1bSUv_jVfH"
      },
      "outputs": [],
      "source": [
        "with open(\"salida.txt\",\"w\") as fwriter:\n",
        "  fwriter.write(\"Hola Diana\")"
      ]
    }
  ]
}