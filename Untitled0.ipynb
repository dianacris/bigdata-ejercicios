{
  "nbformat": 4,
  "nbformat_minor": 0,
  "metadata": {
    "colab": {
      "name": "Untitled0.ipynb",
      "provenance": [],
      "toc_visible": true
    },
    "kernelspec": {
      "name": "python3",
      "display_name": "Python 3"
    },
    "language_info": {
      "name": "python"
    },
    "accelerator": "GPU"
  },
  "cells": [
    {
      "cell_type": "code",
      "execution_count": null,
      "metadata": {
        "colab": {
          "base_uri": "https://localhost:8080/"
        },
        "id": "rf2_KY8pXw1A",
        "outputId": "008a37f2-e91f-4b06-a622-c6c66ce634dd"
      },
      "outputs": [
        {
          "output_type": "stream",
          "name": "stdout",
          "text": [
            "hola\n"
          ]
        }
      ],
      "source": [
        "print(\"hola\")"
      ]
    },
    {
      "cell_type": "code",
      "source": [
        "nombre=\"Steven Sotelo\"\n",
        "print(nombre)"
      ],
      "metadata": {
        "colab": {
          "base_uri": "https://localhost:8080/"
        },
        "id": "DQ34ssrxZGtg",
        "outputId": "80a7ba3f-4455-465a-a3e1-a95bd3bedcef"
      },
      "execution_count": null,
      "outputs": [
        {
          "output_type": "stream",
          "name": "stdout",
          "text": [
            "Steven Sotelo\n"
          ]
        }
      ]
    },
    {
      "cell_type": "code",
      "source": [
        "print(nombre)"
      ],
      "metadata": {
        "colab": {
          "base_uri": "https://localhost:8080/"
        },
        "id": "8V9Kd4J8ZXBQ",
        "outputId": "e0433347-b133-4394-d9ba-0205bc93fc5a"
      },
      "execution_count": null,
      "outputs": [
        {
          "output_type": "stream",
          "name": "stdout",
          "text": [
            "Steven Sotelo\n"
          ]
        }
      ]
    },
    {
      "cell_type": "code",
      "source": [
        "nombre=\"Diana\"\n",
        "print(nombre)"
      ],
      "metadata": {
        "colab": {
          "base_uri": "https://localhost:8080/"
        },
        "id": "8-SG4kT1Zr9h",
        "outputId": "d8453295-c473-472c-8a1f-abacb14cba3e"
      },
      "execution_count": null,
      "outputs": [
        {
          "output_type": "stream",
          "name": "stdout",
          "text": [
            "Diana\n"
          ]
        }
      ]
    },
    {
      "cell_type": "code",
      "source": [
        "x=1\n",
        "y=\"2\"\n",
        "z=y+str(x)\n",
        "print(z)"
      ],
      "metadata": {
        "colab": {
          "base_uri": "https://localhost:8080/"
        },
        "id": "2WTmcjJ5aKVC",
        "outputId": "20fd3e4d-40e0-4731-848a-a285c6126c8a"
      },
      "execution_count": null,
      "outputs": [
        {
          "output_type": "stream",
          "name": "stdout",
          "text": [
            "21\n"
          ]
        }
      ]
    },
    {
      "cell_type": "code",
      "source": [
        "x=0\n",
        "if x<0:\n",
        "  print(\"Es negativo\")\n",
        "elif x>0:\n",
        "  print(\"Es positivo\")\n",
        "else:\n",
        "  print(\"es cero\")"
      ],
      "metadata": {
        "colab": {
          "base_uri": "https://localhost:8080/"
        },
        "id": "gH2GyeEQb1DG",
        "outputId": "fe5694f0-d5cd-4b22-ec6a-7ccd8ce63195"
      },
      "execution_count": null,
      "outputs": [
        {
          "output_type": "stream",
          "name": "stdout",
          "text": [
            "es cero\n"
          ]
        }
      ]
    },
    {
      "cell_type": "code",
      "source": [
        "x=input(\"ingrese valor\")\n",
        "print(x)"
      ],
      "metadata": {
        "colab": {
          "base_uri": "https://localhost:8080/"
        },
        "id": "-1BrH8UhdcmY",
        "outputId": "7281ef7d-4cc2-4d2b-ae1e-409265360b4b"
      },
      "execution_count": null,
      "outputs": [
        {
          "output_type": "stream",
          "name": "stdout",
          "text": [
            "ingrese valordiana\n",
            "diana\n"
          ]
        }
      ]
    },
    {
      "cell_type": "code",
      "source": [
        "nht=input(\"ingrese número de horas trabajadas \")\n",
        "cxh=input(\"Ingrese coste por hora \")\n",
        "pago=int(nht)*int(cxh)\n",
        "print(\"su pago es: \",pago)"
      ],
      "metadata": {
        "colab": {
          "base_uri": "https://localhost:8080/"
        },
        "id": "RSdtNzxcdol6",
        "outputId": "99a9df07-9e7f-4cf9-8517-ff8a2be9212b"
      },
      "execution_count": null,
      "outputs": [
        {
          "output_type": "stream",
          "name": "stdout",
          "text": [
            "ingrese número de horas trabajadas 20\n",
            "Ingrese coste por hora 10000\n",
            "su pago es:  200000\n"
          ]
        }
      ]
    },
    {
      "cell_type": "code",
      "source": [
        "peso=input(\"ingrese peso en kg \")\n",
        "estatura=input(\"ingrese estatura en metros \")\n",
        "imc=int(peso)/float(estatura)**2\n",
        "print(\"Tu índice de masa corporal es \",round(imc,2))"
      ],
      "metadata": {
        "colab": {
          "base_uri": "https://localhost:8080/"
        },
        "id": "Xx4853PAeiqT",
        "outputId": "e17ca88d-eec1-480c-f80d-22270bbdf3a0"
      },
      "execution_count": null,
      "outputs": [
        {
          "output_type": "stream",
          "name": "stdout",
          "text": [
            "ingrese peso en kg 63\n",
            "ingrese estatura en metros 1.60\n",
            "Tu índice de masa corporal es  24.61\n"
          ]
        }
      ]
    },
    {
      "cell_type": "code",
      "source": [
        "precio_ini=450\n",
        "dcto=50\n",
        "cant_barr_n_dia=input(\"Ingrese cantidad de barras vendidas que no son del día \")\n",
        "coste_final=(precio_ini*dcto/100)*int(cant_barr_n_dia)\n",
        "print(\"precio habitual \",precio_ini)\n",
        "print(\"descuento por no ser fresca \",dcto,\"%\")\n",
        "print(\"coste final total \",coste_final)"
      ],
      "metadata": {
        "colab": {
          "base_uri": "https://localhost:8080/"
        },
        "id": "da8RluDggTQx",
        "outputId": "a721c4b5-6802-4a05-f5b7-add7555f0315"
      },
      "execution_count": null,
      "outputs": [
        {
          "output_type": "stream",
          "name": "stdout",
          "text": [
            "Ingrese cantidad de barras vendidas que no son del día 100\n",
            "precio habitual  450\n",
            "descuento por no se fresca  50 %\n",
            "coste final total  22500.0\n"
          ]
        }
      ]
    },
    {
      "cell_type": "code",
      "source": [
        "lista_nombre=[\"diana\",\"steven\"]\n",
        "lista_numeros=[1,2,3,4]\n",
        "lista_nombre.append(\"Rodrigo\")\n",
        "print(lista_nombre+[\"1\"])\n",
        "lista_nombre.remove(\"steven\")\n",
        "print(lista_nombre)\n"
      ],
      "metadata": {
        "id": "juRsyCuKgBu4",
        "colab": {
          "base_uri": "https://localhost:8080/"
        },
        "outputId": "cd88211d-81ff-4c12-fc92-881b76d95aa6"
      },
      "execution_count": null,
      "outputs": [
        {
          "output_type": "stream",
          "name": "stdout",
          "text": [
            "['diana', 'steven', 'Rodrigo', '1']\n",
            "['diana', 'Rodrigo']\n"
          ]
        }
      ]
    },
    {
      "cell_type": "markdown",
      "source": [
        ""
      ],
      "metadata": {
        "id": "QiIP2w8mCL8d"
      }
    },
    {
      "cell_type": "code",
      "source": [
        "#tupla-que no se puede modificar\n",
        "mi_tupla=(1,2,3,4)\n",
        "#mi_tupla.count"
      ],
      "metadata": {
        "colab": {
          "base_uri": "https://localhost:8080/",
          "height": 200
        },
        "id": "wEoNBr71CMdZ",
        "outputId": "17199193-d235-426b-cf83-dcf4fdde1bb7"
      },
      "execution_count": null,
      "outputs": [
        {
          "output_type": "error",
          "ename": "TypeError",
          "evalue": "ignored",
          "traceback": [
            "\u001b[0;31m---------------------------------------------------------------------------\u001b[0m",
            "\u001b[0;31mTypeError\u001b[0m                                 Traceback (most recent call last)",
            "\u001b[0;32m<ipython-input-5-706b2fa101c2>\u001b[0m in \u001b[0;36m<module>\u001b[0;34m()\u001b[0m\n\u001b[1;32m      1\u001b[0m \u001b[0mmi_tupla\u001b[0m\u001b[0;34m=\u001b[0m\u001b[0;34m(\u001b[0m\u001b[0;36m1\u001b[0m\u001b[0;34m,\u001b[0m\u001b[0;36m2\u001b[0m\u001b[0;34m,\u001b[0m\u001b[0;36m3\u001b[0m\u001b[0;34m,\u001b[0m\u001b[0;36m4\u001b[0m\u001b[0;34m)\u001b[0m\u001b[0;34m\u001b[0m\u001b[0;34m\u001b[0m\u001b[0m\n\u001b[0;32m----> 2\u001b[0;31m \u001b[0mprint\u001b[0m\u001b[0;34m(\u001b[0m\u001b[0mint\u001b[0m\u001b[0;34m(\u001b[0m\u001b[0mmi_tupla\u001b[0m\u001b[0;34m.\u001b[0m\u001b[0mcount\u001b[0m\u001b[0;34m)\u001b[0m\u001b[0;34m)\u001b[0m\u001b[0;34m\u001b[0m\u001b[0;34m\u001b[0m\u001b[0m\n\u001b[0m",
            "\u001b[0;31mTypeError\u001b[0m: int() argument must be a string, a bytes-like object or a number, not 'builtin_function_or_method'"
          ]
        }
      ]
    },
    {
      "cell_type": "code",
      "source": [
        "#diccionario\n",
        "persona={\"nombre\":\"diana\",\"apellido\":\"cris\",\"edad\":\"3\"}\n",
        "print(persona[\"nombre\"])"
      ],
      "metadata": {
        "colab": {
          "base_uri": "https://localhost:8080/"
        },
        "id": "xUicxYiqEbqN",
        "outputId": "048f73a5-8e65-4a34-e816-5199c8229e19"
      },
      "execution_count": null,
      "outputs": [
        {
          "output_type": "stream",
          "name": "stdout",
          "text": [
            "diana\n"
          ]
        }
      ]
    },
    {
      "cell_type": "code",
      "source": [
        "#clave valor y tupla y for\n",
        "tupla_clave=(\"nombre\",\"apellido\")\n",
        "persona={\"nombre\":\"diana\",\"apellido\":\"cris\",\"edad\":\"3\"}\n",
        "for i in tupla_clave:\n",
        "  print(\"Llave \",i,\" Valor:\", persona[i])\n"
      ],
      "metadata": {
        "colab": {
          "base_uri": "https://localhost:8080/"
        },
        "id": "HvXRVXpDF4wY",
        "outputId": "8be39181-983e-4255-b6be-9785686b9c7c"
      },
      "execution_count": null,
      "outputs": [
        {
          "output_type": "stream",
          "name": "stdout",
          "text": [
            "Llave  nombre  Valor: diana\n",
            "Llave  apellido  Valor: cris\n"
          ]
        }
      ]
    },
    {
      "cell_type": "code",
      "source": [
        "def saludar(name):\n",
        "  name=1234\n",
        "  print(\"hola \",name)\n",
        "  return name\n",
        "\n",
        "name=\"diana\"\n",
        "saludar(name)"
      ],
      "metadata": {
        "colab": {
          "base_uri": "https://localhost:8080/"
        },
        "id": "g0pTVoQgIfbJ",
        "outputId": "e62b158b-295b-461e-dca1-2bcf297bf960"
      },
      "execution_count": null,
      "outputs": [
        {
          "output_type": "stream",
          "name": "stdout",
          "text": [
            "hola  1234\n",
            "diana\n"
          ]
        }
      ]
    },
    {
      "cell_type": "code",
      "source": [
        "def saludar(name):\n",
        "  name=1234\n",
        "  print(\"hola \",name)\n",
        "  return name\n",
        "\n",
        "name=\"diana\"\n",
        "name=saludar(name)\n",
        "print(name)"
      ],
      "metadata": {
        "colab": {
          "base_uri": "https://localhost:8080/"
        },
        "id": "UNMmT6S_JgDq",
        "outputId": "c02b5e48-eca3-4619-c740-401b3d9c95d7"
      },
      "execution_count": null,
      "outputs": [
        {
          "output_type": "stream",
          "name": "stdout",
          "text": [
            "hola  1234\n",
            "1234\n"
          ]
        }
      ]
    },
    {
      "cell_type": "code",
      "source": [
        "#punto parcial\n",
        "x=int(input(\"cant numeros\"))\n",
        "for i in (range(x)):\n",
        "  y=input(\"ingrese valor \"+str(i)+\" : \")\n",
        "  print(y)\n",
        "print(len(\"hola\"))\n"
      ],
      "metadata": {
        "colab": {
          "base_uri": "https://localhost:8080/"
        },
        "id": "oSzCjO-QJ8VB",
        "outputId": "b0f3e288-bdc6-4360-ecaa-cc56f70348d1"
      },
      "execution_count": null,
      "outputs": [
        {
          "output_type": "stream",
          "name": "stdout",
          "text": [
            "cant numeros2\n",
            "ingrese valor 0 : 25\n",
            "25\n",
            "ingrese valor 1 : 15\n",
            "15\n",
            "4\n"
          ]
        }
      ]
    },
    {
      "cell_type": "code",
      "source": [
        "def calcular_total(productos,iva=0.16):\n",
        "  sum=0\n",
        "  for p in productos:\n",
        "    sum=sum+((p*iva)+p)\n",
        "  return sum\n"
      ],
      "metadata": {
        "id": "li1f73giMGgr"
      },
      "execution_count": null,
      "outputs": []
    },
    {
      "cell_type": "code",
      "source": [
        "print(\"calcular total \",calcular_total([12,54,23]))\n",
        "print(\"calcular total \",calcular_total([12,54,23],iva=0.19))"
      ],
      "metadata": {
        "colab": {
          "base_uri": "https://localhost:8080/"
        },
        "id": "pFi00wfYM_3D",
        "outputId": "264b2c51-fd60-47d8-aa37-ef52953027db"
      },
      "execution_count": null,
      "outputs": [
        {
          "output_type": "stream",
          "name": "stdout",
          "text": [
            "calcular total  103.24000000000001\n",
            "calcular total  105.91000000000001\n"
          ]
        }
      ]
    },
    {
      "cell_type": "code",
      "source": [
        "datos = input(\"Ingrese cantidad de datos\")\n",
        "rango=range(int(datos))\n",
        "\n",
        "print (rango)\n"
      ],
      "metadata": {
        "colab": {
          "base_uri": "https://localhost:8080/",
          "height": 269
        },
        "id": "3Wi7I8GnQyH_",
        "outputId": "2cab4d31-86fb-41df-93bf-74194401086a"
      },
      "execution_count": null,
      "outputs": [
        {
          "output_type": "stream",
          "name": "stdout",
          "text": [
            "Ingrese cantidad de datos3\n",
            "range(0, 3)\n"
          ]
        },
        {
          "output_type": "error",
          "ename": "TypeError",
          "evalue": "ignored",
          "traceback": [
            "\u001b[0;31m---------------------------------------------------------------------------\u001b[0m",
            "\u001b[0;31mTypeError\u001b[0m                                 Traceback (most recent call last)",
            "\u001b[0;32m<ipython-input-29-b4065fc08ac2>\u001b[0m in \u001b[0;36m<module>\u001b[0;34m()\u001b[0m\n\u001b[1;32m      4\u001b[0m \u001b[0mprint\u001b[0m \u001b[0;34m(\u001b[0m\u001b[0mrango\u001b[0m\u001b[0;34m)\u001b[0m\u001b[0;34m\u001b[0m\u001b[0;34m\u001b[0m\u001b[0m\n\u001b[1;32m      5\u001b[0m \u001b[0;32mfor\u001b[0m \u001b[0mr\u001b[0m \u001b[0;32min\u001b[0m \u001b[0mrango\u001b[0m\u001b[0;34m:\u001b[0m\u001b[0;34m\u001b[0m\u001b[0;34m\u001b[0m\u001b[0m\n\u001b[0;32m----> 6\u001b[0;31m   \u001b[0mnumero\u001b[0m\u001b[0;34m=\u001b[0m\u001b[0mint\u001b[0m\u001b[0;34m(\u001b[0m\u001b[0minput\u001b[0m\u001b[0;34m(\u001b[0m\u001b[0;34m\"ingrese numero \"\u001b[0m\u001b[0;34m,\u001b[0m\u001b[0mi\u001b[0m\u001b[0;34m+\u001b[0m\u001b[0;36m1\u001b[0m\u001b[0;34m,\u001b[0m\u001b[0;34m\": \"\u001b[0m\u001b[0;34m)\u001b[0m\u001b[0;34m)\u001b[0m\u001b[0;34m\u001b[0m\u001b[0;34m\u001b[0m\u001b[0m\n\u001b[0m\u001b[1;32m      7\u001b[0m   \u001b[0mrango2\u001b[0m\u001b[0;34m=\u001b[0m\u001b[0mrange\u001b[0m\u001b[0;34m(\u001b[0m\u001b[0mnumero\u001b[0m\u001b[0;34m)\u001b[0m\u001b[0;34m\u001b[0m\u001b[0;34m\u001b[0m\u001b[0m\n\u001b[1;32m      8\u001b[0m   \u001b[0mn\u001b[0m\u001b[0;34m=\u001b[0m\u001b[0;36m0\u001b[0m\u001b[0;34m\u001b[0m\u001b[0;34m\u001b[0m\u001b[0m\n",
            "\u001b[0;31mTypeError\u001b[0m: raw_input() takes from 1 to 2 positional arguments but 4 were given"
          ]
        }
      ]
    },
    {
      "cell_type": "code",
      "source": [
        "cant=input(\"Cantidad de numeros a validar \")\n",
        "rango1=range(int(cant))\n",
        "for r in rango1:\n",
        "  numero=input(\"ingrese numero \")\n",
        "  rango2=range(int(numero))\n",
        "  n=0\n",
        "  for f in rango2:\n",
        "    dividir=int(numero)%int(f+1)\n",
        "    if dividir is 0:\n",
        "      n=n+1\n",
        "  if n is 2:\n",
        "    print(\"el numero \",numero,\" es primo \")\n",
        "  #else if f is 0 or f!=1:\n",
        "  else:\n",
        "    print(\"el numero \",numero,\" No es primo \")\n",
        "\n"
      ],
      "metadata": {
        "colab": {
          "base_uri": "https://localhost:8080/"
        },
        "id": "ITwvfWiySb0v",
        "outputId": "92de1e58-2446-4902-b0d7-b1c17a58d783"
      },
      "execution_count": null,
      "outputs": [
        {
          "output_type": "stream",
          "name": "stdout",
          "text": [
            "Cantidad de numeros a validar 2\n",
            "ingrese numero 19\n",
            "el numero  19  es primo \n",
            "ingrese numero 2\n",
            "el numero  2  es primo \n"
          ]
        }
      ]
    }
  ]
}