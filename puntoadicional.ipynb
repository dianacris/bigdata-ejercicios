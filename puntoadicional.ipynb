{
  "nbformat": 4,
  "nbformat_minor": 0,
  "metadata": {
    "colab": {
      "name": "puntoadicional.ipynb",
      "provenance": []
    },
    "kernelspec": {
      "name": "python3",
      "display_name": "Python 3"
    },
    "language_info": {
      "name": "python"
    }
  },
  "cells": [
    {
      "cell_type": "code",
      "execution_count": 17,
      "metadata": {
        "colab": {
          "base_uri": "https://localhost:8080/"
        },
        "id": "641aL7M6mBz6",
        "outputId": "eebf589c-68b1-443a-f3df-444c593a89fc"
      },
      "outputs": [
        {
          "output_type": "stream",
          "name": "stdout",
          "text": [
            "el numero  2\n",
            "  es primo \n",
            "el numero  9\n",
            "  No es primo \n",
            "el numero  12\n",
            "  No es primo \n",
            "el numero  13\n",
            "  es primo \n",
            "el numero  23\n",
            "  es primo \n",
            "el numero  127  es primo \n"
          ]
        }
      ],
      "source": [
        "with open(\"num.txt\",\"r\") as freader:\n",
        "  for x in freader.readlines():\n",
        "    rango2=range(int(x))\n",
        "    n=0\n",
        "    for f in rango2:\n",
        "      dividir=int(x)%int(f+1)\n",
        "      if dividir is 0:\n",
        "        n=n+1\n",
        "    if n is 2:\n",
        "      print(\"el numero \",x,\" es primo \")\n",
        "    #else if f is 0 or f!=1:\n",
        "    else:\n",
        "      print(\"el numero \",x,\" No es primo \")\n"
      ]
    }
  ]
}